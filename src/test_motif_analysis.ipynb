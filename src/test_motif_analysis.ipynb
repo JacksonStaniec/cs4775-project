{
 "cells": [
  {
   "cell_type": "code",
   "execution_count": 1,
   "metadata": {},
   "outputs": [],
   "source": [
    "import position_analysis as pa\n",
    "import numpy as np\n",
    "import pandas as pd"
   ]
  },
  {
   "cell_type": "code",
   "execution_count": 2,
   "metadata": {},
   "outputs": [
    {
     "name": "stdout",
     "output_type": "stream",
     "text": [
      "fasta load successful\n"
     ]
    },
    {
     "name": "stderr",
     "output_type": "stream",
     "text": [
      "100%|██████████| 20/20 [00:00<00:00, 19253.17it/s]\n"
     ]
    },
    {
     "name": "stdout",
     "output_type": "stream",
     "text": [
      "words identified\n"
     ]
    },
    {
     "name": "stderr",
     "output_type": "stream",
     "text": [
      "100%|██████████| 2021/2021 [00:02<00:00, 855.98it/s] \n"
     ]
    },
    {
     "data": {
      "text/html": [
       "<div>\n",
       "<style scoped>\n",
       "    .dataframe tbody tr th:only-of-type {\n",
       "        vertical-align: middle;\n",
       "    }\n",
       "\n",
       "    .dataframe tbody tr th {\n",
       "        vertical-align: top;\n",
       "    }\n",
       "\n",
       "    .dataframe thead th {\n",
       "        text-align: right;\n",
       "    }\n",
       "</style>\n",
       "<table border=\"1\" class=\"dataframe\">\n",
       "  <thead>\n",
       "    <tr style=\"text-align: right;\">\n",
       "      <th></th>\n",
       "      <th>motif</th>\n",
       "      <th>pval</th>\n",
       "      <th>counts</th>\n",
       "    </tr>\n",
       "  </thead>\n",
       "  <tbody>\n",
       "    <tr>\n",
       "      <th>0</th>\n",
       "      <td>AAACTA</td>\n",
       "      <td>8.653165e-27</td>\n",
       "      <td>11</td>\n",
       "    </tr>\n",
       "    <tr>\n",
       "      <th>1</th>\n",
       "      <td>CACGTG</td>\n",
       "      <td>9.003651e-09</td>\n",
       "      <td>4</td>\n",
       "    </tr>\n",
       "    <tr>\n",
       "      <th>2</th>\n",
       "      <td>CAAACT</td>\n",
       "      <td>8.708558e-08</td>\n",
       "      <td>7</td>\n",
       "    </tr>\n",
       "    <tr>\n",
       "      <th>3</th>\n",
       "      <td>ATGCAT</td>\n",
       "      <td>3.034129e-06</td>\n",
       "      <td>6</td>\n",
       "    </tr>\n",
       "    <tr>\n",
       "      <th>4</th>\n",
       "      <td>AACTAT</td>\n",
       "      <td>4.956394e-04</td>\n",
       "      <td>4</td>\n",
       "    </tr>\n",
       "    <tr>\n",
       "      <th>...</th>\n",
       "      <td>...</td>\n",
       "      <td>...</td>\n",
       "      <td>...</td>\n",
       "    </tr>\n",
       "    <tr>\n",
       "      <th>1529</th>\n",
       "      <td>AGAGGA</td>\n",
       "      <td>7.836913e-01</td>\n",
       "      <td>6</td>\n",
       "    </tr>\n",
       "    <tr>\n",
       "      <th>1530</th>\n",
       "      <td>TAACCC</td>\n",
       "      <td>7.836913e-01</td>\n",
       "      <td>6</td>\n",
       "    </tr>\n",
       "    <tr>\n",
       "      <th>1531</th>\n",
       "      <td>TTACAA</td>\n",
       "      <td>7.836913e-01</td>\n",
       "      <td>6</td>\n",
       "    </tr>\n",
       "    <tr>\n",
       "      <th>1532</th>\n",
       "      <td>AGTCAT</td>\n",
       "      <td>7.836913e-01</td>\n",
       "      <td>6</td>\n",
       "    </tr>\n",
       "    <tr>\n",
       "      <th>1533</th>\n",
       "      <td>CAACTG</td>\n",
       "      <td>8.385711e-01</td>\n",
       "      <td>7</td>\n",
       "    </tr>\n",
       "  </tbody>\n",
       "</table>\n",
       "<p>1534 rows × 3 columns</p>\n",
       "</div>"
      ],
      "text/plain": [
       "       motif          pval  counts\n",
       "0     AAACTA  8.653165e-27      11\n",
       "1     CACGTG  9.003651e-09       4\n",
       "2     CAAACT  8.708558e-08       7\n",
       "3     ATGCAT  3.034129e-06       6\n",
       "4     AACTAT  4.956394e-04       4\n",
       "...      ...           ...     ...\n",
       "1529  AGAGGA  7.836913e-01       6\n",
       "1530  TAACCC  7.836913e-01       6\n",
       "1531  TTACAA  7.836913e-01       6\n",
       "1532  AGTCAT  7.836913e-01       6\n",
       "1533  CAACTG  8.385711e-01       7\n",
       "\n",
       "[1534 rows x 3 columns]"
      ]
     },
     "execution_count": 2,
     "metadata": {},
     "output_type": "execute_result"
    }
   ],
   "source": [
    "motifanalysis = pa.positionanalysis(oligomer_length=6)\n",
    "#AAACTA added to fasta sequences at the front\n",
    "motifanalysis.loadFasta('motif1.fasta')\n",
    "motifanalysis.perform_analysis(discard_low_counts=False)"
   ]
  },
  {
   "cell_type": "code",
   "execution_count": 2,
   "metadata": {},
   "outputs": [
    {
     "name": "stdout",
     "output_type": "stream",
     "text": [
      "fasta load successful\n"
     ]
    },
    {
     "name": "stderr",
     "output_type": "stream",
     "text": [
      "100%|██████████| 10/10 [00:00<00:00, 46.39it/s]\n"
     ]
    },
    {
     "name": "stdout",
     "output_type": "stream",
     "text": [
      "words identified\n"
     ]
    },
    {
     "name": "stderr",
     "output_type": "stream",
     "text": [
      "100%|██████████| 4098/4098 [10:47<00:00,  6.33it/s]\n"
     ]
    },
    {
     "data": {
      "text/html": [
       "<div>\n",
       "<style scoped>\n",
       "    .dataframe tbody tr th:only-of-type {\n",
       "        vertical-align: middle;\n",
       "    }\n",
       "\n",
       "    .dataframe tbody tr th {\n",
       "        vertical-align: top;\n",
       "    }\n",
       "\n",
       "    .dataframe thead th {\n",
       "        text-align: right;\n",
       "    }\n",
       "</style>\n",
       "<table border=\"1\" class=\"dataframe\">\n",
       "  <thead>\n",
       "    <tr style=\"text-align: right;\">\n",
       "      <th></th>\n",
       "      <th>motif</th>\n",
       "      <th>pval</th>\n",
       "      <th>counts</th>\n",
       "    </tr>\n",
       "  </thead>\n",
       "  <tbody>\n",
       "    <tr>\n",
       "      <th>0</th>\n",
       "      <td>GCGGGG</td>\n",
       "      <td>4.177023e-12</td>\n",
       "      <td>5957</td>\n",
       "    </tr>\n",
       "    <tr>\n",
       "      <th>1</th>\n",
       "      <td>CCGCCC</td>\n",
       "      <td>6.881565e-08</td>\n",
       "      <td>7101</td>\n",
       "    </tr>\n",
       "    <tr>\n",
       "      <th>2</th>\n",
       "      <td>GGCGGG</td>\n",
       "      <td>1.945164e-07</td>\n",
       "      <td>6978</td>\n",
       "    </tr>\n",
       "    <tr>\n",
       "      <th>3</th>\n",
       "      <td>GTGACG</td>\n",
       "      <td>1.858328e-06</td>\n",
       "      <td>912</td>\n",
       "    </tr>\n",
       "    <tr>\n",
       "      <th>4</th>\n",
       "      <td>TGGCCA</td>\n",
       "      <td>8.884025e-06</td>\n",
       "      <td>896</td>\n",
       "    </tr>\n",
       "    <tr>\n",
       "      <th>...</th>\n",
       "      <td>...</td>\n",
       "      <td>...</td>\n",
       "      <td>...</td>\n",
       "    </tr>\n",
       "    <tr>\n",
       "      <th>2077</th>\n",
       "      <td>CACGGC</td>\n",
       "      <td>9.985700e-01</td>\n",
       "      <td>810</td>\n",
       "    </tr>\n",
       "    <tr>\n",
       "      <th>2078</th>\n",
       "      <td>CGGGTT</td>\n",
       "      <td>9.989898e-01</td>\n",
       "      <td>607</td>\n",
       "    </tr>\n",
       "    <tr>\n",
       "      <th>2079</th>\n",
       "      <td>ACCAAA</td>\n",
       "      <td>9.993825e-01</td>\n",
       "      <td>607</td>\n",
       "    </tr>\n",
       "    <tr>\n",
       "      <th>2080</th>\n",
       "      <td>TTATCA</td>\n",
       "      <td>9.995840e-01</td>\n",
       "      <td>311</td>\n",
       "    </tr>\n",
       "    <tr>\n",
       "      <th>2081</th>\n",
       "      <td>CCCCAA</td>\n",
       "      <td>9.999830e-01</td>\n",
       "      <td>1154</td>\n",
       "    </tr>\n",
       "  </tbody>\n",
       "</table>\n",
       "<p>2082 rows × 3 columns</p>\n",
       "</div>"
      ],
      "text/plain": [
       "       motif          pval  counts\n",
       "0     GCGGGG  4.177023e-12    5957\n",
       "1     CCGCCC  6.881565e-08    7101\n",
       "2     GGCGGG  1.945164e-07    6978\n",
       "3     GTGACG  1.858328e-06     912\n",
       "4     TGGCCA  8.884025e-06     896\n",
       "...      ...           ...     ...\n",
       "2077  CACGGC  9.985700e-01     810\n",
       "2078  CGGGTT  9.989898e-01     607\n",
       "2079  ACCAAA  9.993825e-01     607\n",
       "2080  TTATCA  9.995840e-01     311\n",
       "2081  CCCCAA  9.999830e-01    1154\n",
       "\n",
       "[2082 rows x 3 columns]"
      ]
     },
     "execution_count": 2,
     "metadata": {},
     "output_type": "execute_result"
    }
   ],
   "source": [
    "for organism in ['chimp','human','monkey','mouse','rat']:\n",
    "    motifanalysis = pa.positionanalysis(oligomer_length=6,window_size=10,bp_to_read=50)\n",
    "    motifanalysis.loadFasta('data/fasta/{}_shortened.fasta'.format(organism))\n",
    "    motifanalysis.perform_analysis(discard_low_counts=False).to_csv('data/fasta/{}_6nt_motif_db.csv'.format(organism),index=False)"
   ]
  }
 ],
 "metadata": {
  "kernelspec": {
   "display_name": "base",
   "language": "python",
   "name": "python3"
  },
  "language_info": {
   "codemirror_mode": {
    "name": "ipython",
    "version": 3
   },
   "file_extension": ".py",
   "mimetype": "text/x-python",
   "name": "python",
   "nbconvert_exporter": "python",
   "pygments_lexer": "ipython3",
   "version": "3.9.13"
  }
 },
 "nbformat": 4,
 "nbformat_minor": 2
}
